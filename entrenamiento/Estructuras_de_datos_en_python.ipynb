{
  "nbformat": 4,
  "nbformat_minor": 0,
  "metadata": {
    "colab": {
      "provenance": []
    },
    "kernelspec": {
      "name": "python3",
      "display_name": "Python 3"
    },
    "language_info": {
      "name": "python"
    }
  },
  "cells": [
    {
      "cell_type": "code",
      "execution_count": null,
      "metadata": {
        "colab": {
          "base_uri": "https://localhost:8080/"
        },
        "id": "2oRxSC_4UaYU",
        "outputId": "c6fb5a19-c4b0-4357-f1f5-fa18e8ad0b53"
      },
      "outputs": [
        {
          "output_type": "stream",
          "name": "stdout",
          "text": [
            "['pistones', 'anillos', 'camisas', 'bielas']\n"
          ]
        }
      ],
      "source": [
        "#lista\n",
        "repuestos = [\"pistones\",\"anillos\",\"camisas\",\"bielas\"]\n",
        "print(repuestos)"
      ]
    },
    {
      "cell_type": "code",
      "source": [
        "#tuplas\n",
        "placas = [\"vmt-848\", \"snn-166\",\"sdn-759\",\"vmt-826\",\"wdk-334\"]\n",
        "print(placas)"
      ],
      "metadata": {
        "colab": {
          "base_uri": "https://localhost:8080/"
        },
        "id": "yVTq5jDTp9W0",
        "outputId": "31475396-41b6-448b-afcd-92c940242a0e"
      },
      "execution_count": null,
      "outputs": [
        {
          "output_type": "stream",
          "name": "stdout",
          "text": [
            "['vmt-848', 'snn-166', 'sdn-759', 'vmt-826', 'wdk-334']\n"
          ]
        }
      ]
    },
    {
      "cell_type": "code",
      "source": [
        "#conjuntos\n",
        "peajes = {\"cano\",\"bordo\",\"tunia\",\"villa rica\"}\n",
        "print(peajes)"
      ],
      "metadata": {
        "colab": {
          "base_uri": "https://localhost:8080/"
        },
        "id": "uk-CZLt3qV_e",
        "outputId": "027b8cd6-6fe4-42f2-a4b8-eec54c256a45"
      },
      "execution_count": null,
      "outputs": [
        {
          "output_type": "stream",
          "name": "stdout",
          "text": [
            "{'bordo', 'cano', 'tunia', 'villa rica'}\n"
          ]
        }
      ]
    },
    {
      "cell_type": "code",
      "source": [
        "#diccionario\n",
        "gastos = {\n",
        "    \"cargue\":\"valor pagado por subir la mercancia\",\n",
        "    \"descargue\":\"valor pagado por bajar la mercancia\",\n",
        "    \"combustible\":\"valor total de acpm agregado\",\n",
        "    \"comision\" :\"valor pagado a quien asigna la carga\"\n",
        "}\n",
        "print(gastos)\n"
      ],
      "metadata": {
        "colab": {
          "base_uri": "https://localhost:8080/"
        },
        "id": "zHE0qVFWq3Uy",
        "outputId": "15a53da7-2a44-4504-b7ee-62aaa070417a"
      },
      "execution_count": null,
      "outputs": [
        {
          "output_type": "stream",
          "name": "stdout",
          "text": [
            "{'cargue': 'valor pagado por subir la mercancia', 'descargue': 'valor pagado por bajar la mercancia', 'combustible': 'valor total de acpm agregado', 'comision': 'valor pagado a quien asigna la carga'}\n"
          ]
        }
      ]
    }
  ]
}