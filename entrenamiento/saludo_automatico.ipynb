{
  "nbformat": 4,
  "nbformat_minor": 0,
  "metadata": {
    "colab": {
      "provenance": []
    },
    "kernelspec": {
      "name": "python3",
      "display_name": "Python 3"
    },
    "language_info": {
      "name": "python"
    }
  },
  "cells": [
    {
      "cell_type": "code",
      "execution_count": null,
      "metadata": {
        "colab": {
          "base_uri": "https://localhost:8080/"
        },
        "id": "1Hu2APP2udNq",
        "outputId": "03d22339-f476-4e67-ac3c-d25ac6e7a802"
      },
      "outputs": [
        {
          "output_type": "stream",
          "name": "stdout",
          "text": [
            "Buenas noches\n"
          ]
        }
      ],
      "source": [
        "import datetime\n",
        "\n",
        "def saludo():\n",
        "  hora_actual = datetime.datetime.now().hour\n",
        "\n",
        "  if 0 > hora_actual < 12 :\n",
        "    print('Buenos dias')\n",
        "\n",
        "  elif 13 > hora_actual < 18 :\n",
        "    print('Buenas tardes')\n",
        "\n",
        "  else:\n",
        "    print('Buenas noches')\n",
        "\n",
        "saludo()\n"
      ]
    }
  ]
}