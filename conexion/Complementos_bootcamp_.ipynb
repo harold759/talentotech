{
  "nbformat": 4,
  "nbformat_minor": 0,
  "metadata": {
    "colab": {
      "provenance": []
    },
    "kernelspec": {
      "name": "python3",
      "display_name": "Python 3"
    },
    "language_info": {
      "name": "python"
    }
  },
  "cells": [
    {
      "cell_type": "markdown",
      "source": [
        "# Operador ternario:"
      ],
      "metadata": {
        "id": "u018kG6JOZYX"
      }
    },
    {
      "cell_type": "code",
      "execution_count": null,
      "metadata": {
        "colab": {
          "base_uri": "https://localhost:8080/"
        },
        "id": "M5aFfXJ_OBiL",
        "outputId": "847afd51-0102-476a-9080-50a29c05e69b"
      },
      "outputs": [
        {
          "output_type": "stream",
          "name": "stdout",
          "text": [
            "¿Cuánto es 1 + 1 ?: 3\n",
            "Su respuesta es: Falsa\n"
          ]
        }
      ],
      "source": [
        "pregunta = input(\"¿Cuánto es 1 + 1 ?: \")\n",
        "respuesta = True if pregunta == \"2\" else False\n",
        "respuesta_espanol = \"Verdadera\" if respuesta==True else \"Falsa\"\n",
        "print(f\"Su respuesta es: {respuesta_espanol}\")"
      ]
    },
    {
      "cell_type": "code",
      "source": [
        "pregunta = input(\"¿Cuál es la capital del departamento del Putumayo (NO USAR TILDES)?: \")\n",
        "respuesta = True if pregunta.lower() == \"mocoa\"  else False\n",
        "respuesta_espanol = \"Verdadera\" if respuesta==True else \"Falsa\"\n",
        "print(f\"Su respuesta es: {respuesta_espanol}\")"
      ],
      "metadata": {
        "colab": {
          "base_uri": "https://localhost:8080/"
        },
        "id": "bAn70xQ9P9Z_",
        "outputId": "6cc6fd2b-3c37-48ca-c2fc-d05677da84d4"
      },
      "execution_count": null,
      "outputs": [
        {
          "output_type": "stream",
          "name": "stdout",
          "text": [
            "¿Cuál es la capital del departamento del Putumayo (NO USAR TILDES)?: moCOa\n",
            "Su respuesta es: Verdadera\n"
          ]
        }
      ]
    },
    {
      "cell_type": "code",
      "source": [
        "pregunta"
      ],
      "metadata": {
        "colab": {
          "base_uri": "https://localhost:8080/",
          "height": 35
        },
        "id": "sy8Cy4JCQqMA",
        "outputId": "68ed0444-e59d-427a-c38d-d254e15c9070"
      },
      "execution_count": null,
      "outputs": [
        {
          "output_type": "execute_result",
          "data": {
            "text/plain": [
              "'MOCOA'"
            ],
            "application/vnd.google.colaboratory.intrinsic+json": {
              "type": "string"
            }
          },
          "metadata": {},
          "execution_count": 12
        }
      ]
    },
    {
      "cell_type": "code",
      "source": [
        "pregunta.lower()"
      ],
      "metadata": {
        "colab": {
          "base_uri": "https://localhost:8080/",
          "height": 35
        },
        "id": "awDkYd77Qusg",
        "outputId": "74a9e779-46b0-4652-cc6e-3edfa4cebb25"
      },
      "execution_count": null,
      "outputs": [
        {
          "output_type": "execute_result",
          "data": {
            "text/plain": [
              "'mocoa'"
            ],
            "application/vnd.google.colaboratory.intrinsic+json": {
              "type": "string"
            }
          },
          "metadata": {},
          "execution_count": 13
        }
      ]
    },
    {
      "cell_type": "markdown",
      "source": [
        "# Manejo de errores con excepciones (try...except):"
      ],
      "metadata": {
        "id": "AsbIFz34Rv4S"
      }
    },
    {
      "cell_type": "code",
      "source": [
        "print(\"Ejemplo (división) de Manejo de errores con excepciones (try...except):\")\n",
        "num = float(input(\"Ingrese el numerador: \"))\n",
        "den = float(input(\"Ingrese el denominador: \"))\n",
        "\n",
        "try:\n",
        "  div = num/den\n",
        "  print(f\"El resultado de la división es: {div}\")\n",
        "except ZeroDivisionError:\n",
        "  print(\"Recuerda que no es posible dividir entre cero!\")"
      ],
      "metadata": {
        "colab": {
          "base_uri": "https://localhost:8080/"
        },
        "id": "-x_L4eYlSYtR",
        "outputId": "88d194b3-d2a5-4afc-b3fd-4e7d303a465c"
      },
      "execution_count": null,
      "outputs": [
        {
          "output_type": "stream",
          "name": "stdout",
          "text": [
            "Ejemplo (división) de Manejo de errores con excepciones (try...except):\n",
            "Ingrese el numerador: 88\n",
            "Ingrese el denominador: 0\n",
            "Recuerda que no es posible dividir entre cero!\n"
          ]
        }
      ]
    },
    {
      "cell_type": "code",
      "source": [
        "print(\"Ejemplo (división) de Manejo de errores con excepciones (try...except):\")\n",
        "num = float(input(\"Ingrese el numerador: \"))\n",
        "den = float(input(\"Ingrese el denominador: \"))\n",
        "\n",
        "try:\n",
        "  div = num/den\n",
        "  print(f\"El resultado de la división es: {div}\")\n",
        "except:\n",
        "  print(\"Recuerda que no es posible dividir entre cero!\")"
      ],
      "metadata": {
        "colab": {
          "base_uri": "https://localhost:8080/"
        },
        "id": "USImSWtmUk-x",
        "outputId": "20d8d5e4-7c2a-4143-b959-b5c12ae8dbff"
      },
      "execution_count": null,
      "outputs": [
        {
          "output_type": "stream",
          "name": "stdout",
          "text": [
            "Ejemplo (división) de Manejo de errores con excepciones (try...except):\n",
            "Ingrese el numerador: 34\n",
            "Ingrese el denominador: 0\n",
            "Recuerda que no es posible dividir entre cero!\n"
          ]
        }
      ]
    },
    {
      "cell_type": "markdown",
      "source": [
        "# Función lambda:"
      ],
      "metadata": {
        "id": "zYrzPE2ZhWSI"
      }
    },
    {
      "cell_type": "code",
      "source": [
        "n1 = float(input(\"Enter the 1st number: \"))\n",
        "n2 = float(input(\"Enter the 2nd number: \"))\n",
        "\n",
        "suma = lambda a,b: a+b\n",
        "resultado = suma(n1, n2)\n",
        "print(f\"The sum is: {resultado}\")\n",
        "\n",
        "resta = lambda a,b: a-b\n",
        "resultado = resta(n1, n2)\n",
        "print(f\"The substraction is: {resultado}\")\n",
        "\n",
        "multiplicacion = lambda a,b: a*b\n",
        "resultado = multiplicacion(n1, n2)\n",
        "print(f\"The multiplication is: {resultado}\")\n",
        "\n",
        "division = lambda a,b: a/b\n",
        "resultado = division(n1, n2) if n2!=0 else \"You cannot divide by zero\"\n",
        "print(f\"The division is: {resultado}\")"
      ],
      "metadata": {
        "colab": {
          "base_uri": "https://localhost:8080/"
        },
        "id": "FuXIhTRghkpA",
        "outputId": "2cb709ea-a491-4071-cf8d-6c707958f3c4"
      },
      "execution_count": null,
      "outputs": [
        {
          "output_type": "stream",
          "name": "stdout",
          "text": [
            "Enter the 1st number: 2\n",
            "Enter the 2nd number: 2\n",
            "The sum is: 4.0\n",
            "The substraction is: 0.0\n",
            "The multiplication is: 4.0\n",
            "The division is: 1.0\n"
          ]
        }
      ]
    },
    {
      "cell_type": "code",
      "source": [
        "# TAREA (terminar siguiendo el ejemplo anterior):\n",
        "import math\n",
        "potencia = lambda base,exponente: math.pow(base,exponente)# base**exponente\n",
        "resultado = potencia(n1, n2)\n",
        "print(f\"The power is: {resultado}\")\n",
        "\n",
        "raiz = lambda numero: math.sqrt(numero)\n",
        "resultado = raiz(n1)\n",
        "print(f\"The square root is: {resultado}\")\n",
        "\n",
        "logaritmo = lambda numero, base: math.log(numero, base) if numero > 0 and base > 0 and base != 1 else \"valor invalido\"\n",
        "resultado = logaritmo(n1, n2)\n",
        "print(f\"The logarithm is: {resultado}\")"
      ],
      "metadata": {
        "id": "NGTA2VrajE1W",
        "colab": {
          "base_uri": "https://localhost:8080/"
        },
        "outputId": "a0e35449-0325-47ea-ceaf-424489e031f1"
      },
      "execution_count": null,
      "outputs": [
        {
          "output_type": "stream",
          "name": "stdout",
          "text": [
            "The power is: 4.0\n",
            "The square root is: 1.4142135623730951\n",
            "The logarithm is: 1.0\n"
          ]
        }
      ]
    },
    {
      "cell_type": "code",
      "source": [
        "# TAREA (terminar siguiendo el ejemplo anterior):\n",
        "import math\n",
        "seno = lambda angulo_radianes: math.sin(angulo_radianes)\n",
        "resultado = seno(n1)\n",
        "print(f\"The sine is: {resultado}\")\n",
        "\n",
        "coseno = lambda angulo_radianes: math.cos(angulo_radianes)\n",
        "resultado = coseno(n1)\n",
        "print(f\"The cosine is: {resultado}\")\n",
        "\n",
        "tangente = lambda angulo_radianes: math.tan(angulo_radianes)\n",
        "resultado = tangente(n1)\n",
        "print(f\"The tangent is: {resultado}\")\n",
        "\n"
      ],
      "metadata": {
        "id": "UNJzzQuIjGa9",
        "colab": {
          "base_uri": "https://localhost:8080/"
        },
        "outputId": "71810b7b-e065-4355-9c4c-57462b3834e8"
      },
      "execution_count": null,
      "outputs": [
        {
          "output_type": "stream",
          "name": "stdout",
          "text": [
            "The sine is: 0.9092974268256817\n",
            "The cosine is: -0.4161468365471424\n",
            "The tangent is: -2.185039863261519\n"
          ]
        }
      ]
    },
    {
      "cell_type": "markdown",
      "source": [
        "# Función recursiva a través del ejemplo de la función matemática de Fibonacci:\n",
        "\n",
        "Esta es una excepción a la observación al inicio de este cuaderno porque por cuestiones de tiempo tomé el ejemplo de Fibonacci de la url (Sección al 60% del contenido):\n",
        "\n",
        "https://aprendeconalf.es/docencia/python/manual/funciones/\n",
        "\n",
        "(Obviamente se va a adaptar~limpieza y explicarla mejor para una celda de Google Colab)\n",
        "\n",
        "```\n",
        ">>> def fibonacci(n):\n",
        "...     if n <= 1:\n",
        "...         return n\n",
        "...     else:\n",
        "...         return fibonacci(n - 1) + fibonacci(n - 2)\n",
        "...\n",
        ">>> fibonacci(6)\n",
        "```\n",
        "\n"
      ],
      "metadata": {
        "id": "JSa6yDr_hlHw"
      }
    },
    {
      "cell_type": "code",
      "source": [
        "def fibonacci(n): # n debe ser un numero entero positivo incluyendo el cero (numero natural)\n",
        "     if n <= 1:\n",
        "         return n\n",
        "     else:\n",
        "         return fibonacci(n - 1) + fibonacci(n - 2) # aquí se aplica la recursividad pues denrto del mismo bloque de código llamo a la función\n",
        "\n",
        "for n in range(21):\n",
        "  print(f\"fibonacci({n}) = {fibonacci(n)}\")\n",
        "\n"
      ],
      "metadata": {
        "colab": {
          "base_uri": "https://localhost:8080/"
        },
        "id": "9zE8-huvht9_",
        "outputId": "9db64e9c-216c-4c5a-fca2-7a5a62f4b67a"
      },
      "execution_count": null,
      "outputs": [
        {
          "output_type": "stream",
          "name": "stdout",
          "text": [
            "fibonacci(0) = 0\n",
            "fibonacci(1) = 1\n",
            "fibonacci(2) = 1\n",
            "fibonacci(3) = 2\n",
            "fibonacci(4) = 3\n",
            "fibonacci(5) = 5\n",
            "fibonacci(6) = 8\n",
            "fibonacci(7) = 13\n",
            "fibonacci(8) = 21\n",
            "fibonacci(9) = 34\n",
            "fibonacci(10) = 55\n",
            "fibonacci(11) = 89\n",
            "fibonacci(12) = 144\n",
            "fibonacci(13) = 233\n",
            "fibonacci(14) = 377\n",
            "fibonacci(15) = 610\n",
            "fibonacci(16) = 987\n",
            "fibonacci(17) = 1597\n",
            "fibonacci(18) = 2584\n",
            "fibonacci(19) = 4181\n",
            "fibonacci(20) = 6765\n"
          ]
        }
      ]
    }
  ]
}