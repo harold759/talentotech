{
  "nbformat": 4,
  "nbformat_minor": 0,
  "metadata": {
    "colab": {
      "provenance": []
    },
    "kernelspec": {
      "name": "python3",
      "display_name": "Python 3"
    },
    "language_info": {
      "name": "python"
    }
  },
  "cells": [
    {
      "cell_type": "code",
      "execution_count": null,
      "metadata": {
        "colab": {
          "base_uri": "https://localhost:8080/"
        },
        "id": "jg7gLi6Qx5Pv",
        "outputId": "8a10f362-e7ba-4eab-d384-b06f64b1f0e7"
      },
      "outputs": [
        {
          "output_type": "stream",
          "name": "stdout",
          "text": [
            "El coche Toyota Corolla acelero. nueva velocidad: 70 km/h\n"
          ]
        }
      ],
      "source": [
        "class Coche:\n",
        "  def __init__(self, marca, modelo, velocidad):\n",
        "    self.marca = marca\n",
        "    self.modelo = modelo\n",
        "    self.velocidad = velocidad\n",
        "\n",
        "  def acelerar(self, aumento):\n",
        "    self.velocidad += aumento\n",
        "    print(f\"El coche {self.marca} {self.modelo} acelero. nueva velocidad: {self.velocidad} km/h\")\n",
        "\n",
        "mi_coche = Coche('Toyota', 'Corolla', 50)\n",
        "mi_coche.acelerar(20)"
      ]
    }
  ]
}