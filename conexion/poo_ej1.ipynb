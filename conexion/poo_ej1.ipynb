{
  "nbformat": 4,
  "nbformat_minor": 0,
  "metadata": {
    "colab": {
      "provenance": []
    },
    "kernelspec": {
      "name": "python3",
      "display_name": "Python 3"
    },
    "language_info": {
      "name": "python"
    }
  },
  "cells": [
    {
      "cell_type": "code",
      "execution_count": null,
      "metadata": {
        "colab": {
          "base_uri": "https://localhost:8080/"
        },
        "id": "G5mtu6t4npKO",
        "outputId": "0818a8c2-691a-4204-fa16-05be74a064e7"
      },
      "outputs": [
        {
          "output_type": "stream",
          "name": "stdout",
          "text": [
            "valor1\n",
            "Hola desde el metodo 1\n",
            "El atributo 2 se actualizo a: 42\n",
            "42\n"
          ]
        }
      ],
      "source": [
        "class MiClase:\n",
        "\n",
        "  atributo1 = 'valor1'\n",
        "  atributo2 = 0\n",
        "\n",
        "  def metodo1(self):\n",
        "    print('Hola desde el metodo 1')\n",
        "\n",
        "  def metodo2(self, parametro):\n",
        "    self.atributo2 = parametro\n",
        "    print(f'El atributo 2 se actualizo a: {self.atributo2}')\n",
        "\n",
        "objeto1 = MiClase()\n",
        "objeto2 = MiClase()\n",
        "\n",
        "print(objeto1.atributo1)\n",
        "objeto1.metodo1()\n",
        "\n",
        "objeto2.metodo2(42)\n",
        "print(objeto2.atributo2)"
      ]
    }
  ]
}